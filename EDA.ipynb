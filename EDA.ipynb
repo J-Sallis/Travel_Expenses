{
 "cells": [
  {
   "cell_type": "markdown",
   "id": "a4002818-d439-4ab1-abc6-dabc5d4f107d",
   "metadata": {},
   "source": [
    "#  Data Viz: EDA - Exploring Travel Expense reports submitted by federal instituitions\n",
    "### Jesse Sallis - Bcom, MIB\n",
    "#### April 2022"
   ]
  },
  {
   "cell_type": "markdown",
   "id": "4b34af2b-46e4-4f09-b5ed-33d53ab0228c",
   "metadata": {},
   "source": [
    "### Introduction: \n",
    "\n",
    "Purpose of notebook is to explore Canadian government officials travel expenses by utilizing advanced data visaulizations. Analysis will consist of importing/cleaning dataset, developing a few summary charts to better understand the dataset and creating informative visualizations based on initial probing questions.\n",
    "\n",
    "\n",
    "### Questions that will be explored:\n",
    "* How has travel expense changed over time? Are governemnt officials travelling more or less over time?\n",
    "* What type of expense makes up the most of totla expense cost?\n",
    "* Does longer trips lead to higher total expenses?\n",
    "\n",
    "These questions are being asked to better understand travel habits of government officials and to start a conversation if this amount/cost is acceptable to tax payers.\n",
    "\n",
    "### Datasets\n",
    "\n",
    "For the purpose of this excerise, 1 datasets will be used. Data can be found here https://open.canada.ca/data/en/dataset/009f9a49-c2d9-4d29-a6d4-1a228da335ce and follows a https://open.canada.ca/en/open-government-licence-canada license.\n",
    "                \n",
    "* **gov_travel.csv**\n",
    "    * Collection of publically recorded travel expenses from different federal instituitions\n",
    "    * Columns of interest will be the ones that contain expense amount ex: airfare, total expense amount"
   ]
  },
  {
   "cell_type": "markdown",
   "id": "eb2116b0-e7b6-40f0-b92c-74f03c71a03a",
   "metadata": {},
   "source": [
    "### Data Wrangling\n",
    "\n",
    "Let's load in our data and take a look at its properties to determine what steps are needed to tidy up data."
   ]
  },
  {
   "cell_type": "code",
   "execution_count": 1,
   "id": "bbca5d0a-66a1-4a1e-870a-05f1a8492b02",
   "metadata": {},
   "outputs": [],
   "source": [
    "#importing required packages\n",
    "\n",
    "import altair as alt\n",
    "import pandas as pd\n",
    "import numpy as np\n",
    "\n",
    "# alt.data_transformers.enable(\"data_server\")\n",
    "\n",
    "#reading in dataframe \n",
    "\n",
    "df = pd.read_csv('data/gov_travel.csv',parse_dates=['end_date','start_date'])\n",
    "\n",
    "#for some reason end_date is not being parsed as a datetime index\n",
    "\n",
    "df['end_date'] = pd.to_datetime(df['end_date'],errors='coerce')"
   ]
  },
  {
   "cell_type": "code",
   "execution_count": 2,
   "id": "13757090-fbdb-49e2-859d-f9092c51c953",
   "metadata": {},
   "outputs": [
    {
     "data": {
      "text/html": [
       "<div>\n",
       "<style scoped>\n",
       "    .dataframe tbody tr th:only-of-type {\n",
       "        vertical-align: middle;\n",
       "    }\n",
       "\n",
       "    .dataframe tbody tr th {\n",
       "        vertical-align: top;\n",
       "    }\n",
       "\n",
       "    .dataframe thead th {\n",
       "        text-align: right;\n",
       "    }\n",
       "</style>\n",
       "<table border=\"1\" class=\"dataframe\">\n",
       "  <thead>\n",
       "    <tr style=\"text-align: right;\">\n",
       "      <th></th>\n",
       "      <th>_id</th>\n",
       "      <th>ref_number</th>\n",
       "      <th>disclosure_group</th>\n",
       "      <th>title_en</th>\n",
       "      <th>title_fr</th>\n",
       "      <th>name</th>\n",
       "      <th>purpose_en</th>\n",
       "      <th>purpose_fr</th>\n",
       "      <th>start_date</th>\n",
       "      <th>end_date</th>\n",
       "      <th>...</th>\n",
       "      <th>airfare</th>\n",
       "      <th>other_transport</th>\n",
       "      <th>lodging</th>\n",
       "      <th>meals</th>\n",
       "      <th>other_expenses</th>\n",
       "      <th>total</th>\n",
       "      <th>additional_comments_en</th>\n",
       "      <th>additional_comments_fr</th>\n",
       "      <th>owner_org</th>\n",
       "      <th>owner_org_title</th>\n",
       "    </tr>\n",
       "  </thead>\n",
       "  <tbody>\n",
       "    <tr>\n",
       "      <th>0</th>\n",
       "      <td>1</td>\n",
       "      <td>T-20120-P11-001</td>\n",
       "      <td>SLE</td>\n",
       "      <td>Chief Executive Officer</td>\n",
       "      <td>Président directeur-général</td>\n",
       "      <td>Philip Rizcallah</td>\n",
       "      <td>To attend meeting with Saskatchewan Provincial...</td>\n",
       "      <td>Pour assister à une réunion avec le gouverneme...</td>\n",
       "      <td>2020-02-03</td>\n",
       "      <td>2020-02-04</td>\n",
       "      <td>...</td>\n",
       "      <td>646.17</td>\n",
       "      <td>117.26</td>\n",
       "      <td>157.78</td>\n",
       "      <td>197.25</td>\n",
       "      <td>0.0</td>\n",
       "      <td>1118.46</td>\n",
       "      <td>NaN</td>\n",
       "      <td>NaN</td>\n",
       "      <td>casdo-ocena</td>\n",
       "      <td>Accessibility Standards Canada | Normes d’acce...</td>\n",
       "    </tr>\n",
       "    <tr>\n",
       "      <th>1</th>\n",
       "      <td>2</td>\n",
       "      <td>T-2020-P11-0001</td>\n",
       "      <td>SLE</td>\n",
       "      <td>Chair</td>\n",
       "      <td>Président</td>\n",
       "      <td>Bérubé, Paul-Claude</td>\n",
       "      <td>Board members meeting</td>\n",
       "      <td>Réunion du conseil</td>\n",
       "      <td>2020-02-09</td>\n",
       "      <td>2020-02-13</td>\n",
       "      <td>...</td>\n",
       "      <td>1104.27</td>\n",
       "      <td>189.72</td>\n",
       "      <td>841.31</td>\n",
       "      <td>461.84</td>\n",
       "      <td>NaN</td>\n",
       "      <td>2597.14</td>\n",
       "      <td>NaN</td>\n",
       "      <td>NaN</td>\n",
       "      <td>casdo-ocena</td>\n",
       "      <td>Accessibility Standards Canada | Normes d’acce...</td>\n",
       "    </tr>\n",
       "  </tbody>\n",
       "</table>\n",
       "<p>2 rows × 22 columns</p>\n",
       "</div>"
      ],
      "text/plain": [
       "   _id       ref_number disclosure_group                 title_en  \\\n",
       "0    1  T-20120-P11-001              SLE  Chief Executive Officer   \n",
       "1    2  T-2020-P11-0001              SLE                    Chair   \n",
       "\n",
       "                      title_fr                 name  \\\n",
       "0  Président directeur-général     Philip Rizcallah   \n",
       "1                    Président  Bérubé, Paul-Claude   \n",
       "\n",
       "                                          purpose_en  \\\n",
       "0  To attend meeting with Saskatchewan Provincial...   \n",
       "1                              Board members meeting   \n",
       "\n",
       "                                          purpose_fr start_date   end_date  \\\n",
       "0  Pour assister à une réunion avec le gouverneme... 2020-02-03 2020-02-04   \n",
       "1                                Réunion du conseil  2020-02-09 2020-02-13   \n",
       "\n",
       "   ...  airfare other_transport  lodging   meals  other_expenses    total  \\\n",
       "0  ...   646.17          117.26   157.78  197.25             0.0  1118.46   \n",
       "1  ...  1104.27          189.72   841.31  461.84             NaN  2597.14   \n",
       "\n",
       "   additional_comments_en  additional_comments_fr    owner_org  \\\n",
       "0                     NaN                     NaN  casdo-ocena   \n",
       "1                     NaN                     NaN  casdo-ocena   \n",
       "\n",
       "                                     owner_org_title  \n",
       "0  Accessibility Standards Canada | Normes d’acce...  \n",
       "1  Accessibility Standards Canada | Normes d’acce...  \n",
       "\n",
       "[2 rows x 22 columns]"
      ]
     },
     "execution_count": 2,
     "metadata": {},
     "output_type": "execute_result"
    }
   ],
   "source": [
    "df.head(2)"
   ]
  },
  {
   "cell_type": "code",
   "execution_count": 3,
   "id": "6bc17d43-32ed-4cb2-aee7-46b661b09ee8",
   "metadata": {},
   "outputs": [
    {
     "name": "stdout",
     "output_type": "stream",
     "text": [
      "<class 'pandas.core.frame.DataFrame'>\n",
      "RangeIndex: 74573 entries, 0 to 74572\n",
      "Data columns (total 22 columns):\n",
      " #   Column                  Non-Null Count  Dtype         \n",
      "---  ------                  --------------  -----         \n",
      " 0   _id                     74573 non-null  int64         \n",
      " 1   ref_number              74573 non-null  object        \n",
      " 2   disclosure_group        53595 non-null  object        \n",
      " 3   title_en                73865 non-null  object        \n",
      " 4   title_fr                73843 non-null  object        \n",
      " 5   name                    74025 non-null  object        \n",
      " 6   purpose_en              74558 non-null  object        \n",
      " 7   purpose_fr              74488 non-null  object        \n",
      " 8   start_date              74573 non-null  datetime64[ns]\n",
      " 9   end_date                73765 non-null  datetime64[ns]\n",
      " 10  destination_en          74240 non-null  object        \n",
      " 11  destination_fr          73927 non-null  object        \n",
      " 12  airfare                 71273 non-null  float64       \n",
      " 13  other_transport         72733 non-null  float64       \n",
      " 14  lodging                 72113 non-null  float64       \n",
      " 15  meals                   73373 non-null  float64       \n",
      " 16  other_expenses          67387 non-null  float64       \n",
      " 17  total                   74384 non-null  float64       \n",
      " 18  additional_comments_en  7455 non-null   object        \n",
      " 19  additional_comments_fr  6616 non-null   object        \n",
      " 20  owner_org               74573 non-null  object        \n",
      " 21  owner_org_title         74573 non-null  object        \n",
      "dtypes: datetime64[ns](2), float64(6), int64(1), object(13)\n",
      "memory usage: 12.5+ MB\n",
      "\n",
      "\n"
     ]
    },
    {
     "data": {
      "text/html": [
       "<div>\n",
       "<style scoped>\n",
       "    .dataframe tbody tr th:only-of-type {\n",
       "        vertical-align: middle;\n",
       "    }\n",
       "\n",
       "    .dataframe tbody tr th {\n",
       "        vertical-align: top;\n",
       "    }\n",
       "\n",
       "    .dataframe thead th {\n",
       "        text-align: right;\n",
       "    }\n",
       "</style>\n",
       "<table border=\"1\" class=\"dataframe\">\n",
       "  <thead>\n",
       "    <tr style=\"text-align: right;\">\n",
       "      <th></th>\n",
       "      <th>_id</th>\n",
       "      <th>airfare</th>\n",
       "      <th>other_transport</th>\n",
       "      <th>lodging</th>\n",
       "      <th>meals</th>\n",
       "      <th>other_expenses</th>\n",
       "      <th>total</th>\n",
       "    </tr>\n",
       "  </thead>\n",
       "  <tbody>\n",
       "    <tr>\n",
       "      <th>count</th>\n",
       "      <td>74573.000000</td>\n",
       "      <td>7.127300e+04</td>\n",
       "      <td>7.273300e+04</td>\n",
       "      <td>7.211300e+04</td>\n",
       "      <td>73373.000000</td>\n",
       "      <td>67387.000000</td>\n",
       "      <td>74384.000000</td>\n",
       "    </tr>\n",
       "    <tr>\n",
       "      <th>mean</th>\n",
       "      <td>37287.000000</td>\n",
       "      <td>2.572041e+13</td>\n",
       "      <td>1.671659e+02</td>\n",
       "      <td>4.031587e+02</td>\n",
       "      <td>197.954156</td>\n",
       "      <td>23.341601</td>\n",
       "      <td>1754.394517</td>\n",
       "    </tr>\n",
       "    <tr>\n",
       "      <th>std</th>\n",
       "      <td>21527.515149</td>\n",
       "      <td>6.866580e+15</td>\n",
       "      <td>7.143979e+03</td>\n",
       "      <td>1.203475e+04</td>\n",
       "      <td>3203.467506</td>\n",
       "      <td>121.242776</td>\n",
       "      <td>3220.345826</td>\n",
       "    </tr>\n",
       "    <tr>\n",
       "      <th>min</th>\n",
       "      <td>1.000000</td>\n",
       "      <td>-9.066000e+02</td>\n",
       "      <td>-7.722400e+02</td>\n",
       "      <td>0.000000e+00</td>\n",
       "      <td>0.000000</td>\n",
       "      <td>-477.200000</td>\n",
       "      <td>-906.600000</td>\n",
       "    </tr>\n",
       "    <tr>\n",
       "      <th>25%</th>\n",
       "      <td>18644.000000</td>\n",
       "      <td>0.000000e+00</td>\n",
       "      <td>3.000000e+01</td>\n",
       "      <td>0.000000e+00</td>\n",
       "      <td>41.750000</td>\n",
       "      <td>0.000000</td>\n",
       "      <td>481.690000</td>\n",
       "    </tr>\n",
       "    <tr>\n",
       "      <th>50%</th>\n",
       "      <td>37287.000000</td>\n",
       "      <td>6.442400e+02</td>\n",
       "      <td>9.582000e+01</td>\n",
       "      <td>2.000000e+02</td>\n",
       "      <td>126.100000</td>\n",
       "      <td>0.000000</td>\n",
       "      <td>1085.035000</td>\n",
       "    </tr>\n",
       "    <tr>\n",
       "      <th>75%</th>\n",
       "      <td>55930.000000</td>\n",
       "      <td>1.203330e+03</td>\n",
       "      <td>1.960000e+02</td>\n",
       "      <td>4.632400e+02</td>\n",
       "      <td>239.800000</td>\n",
       "      <td>12.430000</td>\n",
       "      <td>2024.377500</td>\n",
       "    </tr>\n",
       "    <tr>\n",
       "      <th>max</th>\n",
       "      <td>74573.000000</td>\n",
       "      <td>1.833171e+18</td>\n",
       "      <td>1.926107e+06</td>\n",
       "      <td>3.228626e+06</td>\n",
       "      <td>865324.600000</td>\n",
       "      <td>11366.910000</td>\n",
       "      <td>315315.000000</td>\n",
       "    </tr>\n",
       "  </tbody>\n",
       "</table>\n",
       "</div>"
      ],
      "text/plain": [
       "                _id       airfare  other_transport       lodging  \\\n",
       "count  74573.000000  7.127300e+04     7.273300e+04  7.211300e+04   \n",
       "mean   37287.000000  2.572041e+13     1.671659e+02  4.031587e+02   \n",
       "std    21527.515149  6.866580e+15     7.143979e+03  1.203475e+04   \n",
       "min        1.000000 -9.066000e+02    -7.722400e+02  0.000000e+00   \n",
       "25%    18644.000000  0.000000e+00     3.000000e+01  0.000000e+00   \n",
       "50%    37287.000000  6.442400e+02     9.582000e+01  2.000000e+02   \n",
       "75%    55930.000000  1.203330e+03     1.960000e+02  4.632400e+02   \n",
       "max    74573.000000  1.833171e+18     1.926107e+06  3.228626e+06   \n",
       "\n",
       "               meals  other_expenses          total  \n",
       "count   73373.000000    67387.000000   74384.000000  \n",
       "mean      197.954156       23.341601    1754.394517  \n",
       "std      3203.467506      121.242776    3220.345826  \n",
       "min         0.000000     -477.200000    -906.600000  \n",
       "25%        41.750000        0.000000     481.690000  \n",
       "50%       126.100000        0.000000    1085.035000  \n",
       "75%       239.800000       12.430000    2024.377500  \n",
       "max    865324.600000    11366.910000  315315.000000  "
      ]
     },
     "execution_count": 3,
     "metadata": {},
     "output_type": "execute_result"
    }
   ],
   "source": [
    "df.info()\n",
    "print(\"\\n\")\n",
    "df.describe()"
   ]
  },
  {
   "cell_type": "markdown",
   "id": "1588d7a0-e714-43a2-b41d-d59d67c072fe",
   "metadata": {},
   "source": [
    "No obvious issues with the dataset, ~75k rows, 22 columns and 6 pure numeric columns"
   ]
  },
  {
   "cell_type": "code",
   "execution_count": 4,
   "id": "91d66d44-5854-42ef-89b9-2cb45b8787ae",
   "metadata": {},
   "outputs": [],
   "source": [
    "#seems there are some values that seems incorrect - lets find the row in question/drop row\n",
    "\n",
    "df = df.drop(df['airfare'].idxmax())\n",
    "df = df.drop(df['lodging'].idxmax())\n",
    "df = df.drop(df['other_transport'].idxmax())\n",
    "df = df.drop(df['meals'].idxmax())"
   ]
  },
  {
   "cell_type": "markdown",
   "id": "1f97b99c-87a2-49e4-b884-ca6ec629b454",
   "metadata": {},
   "source": [
    "### Exploratory Visualizations\n",
    "\n",
    "#### Question 1: How have expenses travelled over time? Are governemnt officials travelling more or less over time?\n",
    "\n",
    "I expect to see the pandemic to drive a sudden drop off in expenses start in Mar 2020 with a slow recovery throughout 2020/2021. Let's look at total travel expense on a monthly basis."
   ]
  },
  {
   "cell_type": "code",
   "execution_count": 5,
   "id": "70e1132d-cc45-448b-a493-6dea87bfc47f",
   "metadata": {},
   "outputs": [
    {
     "data": {
      "text/html": [
       "\n",
       "<div id=\"altair-viz-bd070501f8eb4addac3ed6f99a67d314\"></div>\n",
       "<script type=\"text/javascript\">\n",
       "  (function(spec, embedOpt){\n",
       "    let outputDiv = document.currentScript.previousElementSibling;\n",
       "    if (outputDiv.id !== \"altair-viz-bd070501f8eb4addac3ed6f99a67d314\") {\n",
       "      outputDiv = document.getElementById(\"altair-viz-bd070501f8eb4addac3ed6f99a67d314\");\n",
       "    }\n",
       "    const paths = {\n",
       "      \"vega\": \"https://cdn.jsdelivr.net/npm//vega@5?noext\",\n",
       "      \"vega-lib\": \"https://cdn.jsdelivr.net/npm//vega-lib?noext\",\n",
       "      \"vega-lite\": \"https://cdn.jsdelivr.net/npm//vega-lite@4.8.1?noext\",\n",
       "      \"vega-embed\": \"https://cdn.jsdelivr.net/npm//vega-embed@6?noext\",\n",
       "    };\n",
       "\n",
       "    function loadScript(lib) {\n",
       "      return new Promise(function(resolve, reject) {\n",
       "        var s = document.createElement('script');\n",
       "        s.src = paths[lib];\n",
       "        s.async = true;\n",
       "        s.onload = () => resolve(paths[lib]);\n",
       "        s.onerror = () => reject(`Error loading script: ${paths[lib]}`);\n",
       "        document.getElementsByTagName(\"head\")[0].appendChild(s);\n",
       "      });\n",
       "    }\n",
       "\n",
       "    function showError(err) {\n",
       "      outputDiv.innerHTML = `<div class=\"error\" style=\"color:red;\">${err}</div>`;\n",
       "      throw err;\n",
       "    }\n",
       "\n",
       "    function displayChart(vegaEmbed) {\n",
       "      vegaEmbed(outputDiv, spec, embedOpt)\n",
       "        .catch(err => showError(`Javascript Error: ${err.message}<br>This usually means there's a typo in your chart specification. See the javascript console for the full traceback.`));\n",
       "    }\n",
       "\n",
       "    if(typeof define === \"function\" && define.amd) {\n",
       "      requirejs.config({paths});\n",
       "      require([\"vega-embed\"], displayChart, err => showError(`Error loading script: ${err.message}`));\n",
       "    } else if (typeof vegaEmbed === \"function\") {\n",
       "      displayChart(vegaEmbed);\n",
       "    } else {\n",
       "      loadScript(\"vega\")\n",
       "        .then(() => loadScript(\"vega-lite\"))\n",
       "        .then(() => loadScript(\"vega-embed\"))\n",
       "        .catch(showError)\n",
       "        .then(() => displayChart(vegaEmbed));\n",
       "    }\n",
       "  })({\"config\": {\"view\": {\"continuousWidth\": 400, \"continuousHeight\": 300}}, \"vconcat\": [{\"data\": {\"url\": \"http://localhost:20485/93dc0a45c2ce7dce3ac8791b713f747a.json\"}, \"mark\": \"bar\", \"encoding\": {\"color\": {\"type\": \"nominal\", \"field\": \"Cost\"}, \"x\": {\"type\": \"temporal\", \"field\": \"start_date\", \"title\": \"Date\"}, \"y\": {\"type\": \"quantitative\", \"aggregate\": \"sum\", \"field\": \"Expense\", \"title\": \"Total Expense (CAD)\"}}, \"title\": \"Total Monthly Expenses: Fig 1\"}, {\"data\": {\"url\": \"http://localhost:20485/0b7bfb1554cb45aaa5e43942b2dea279.json\"}, \"mark\": \"bar\", \"encoding\": {\"x\": {\"type\": \"quantitative\", \"field\": \"airfare\", \"title\": \"Number of Flights\"}, \"y\": {\"type\": \"temporal\", \"field\": \"start_date\", \"scale\": {\"reverse\": true}, \"title\": \"Year\"}}, \"height\": 200, \"title\": \"Number of Flights per Year: Fig 2\"}], \"$schema\": \"https://vega.github.io/schema/vega-lite/v4.8.1.json\"}, {\"mode\": \"vega-lite\"});\n",
       "</script>"
      ],
      "text/plain": [
       "alt.VConcatChart(...)"
      ]
     },
     "execution_count": 5,
     "metadata": {},
     "output_type": "execute_result"
    }
   ],
   "source": [
    "total_exp = (alt.Chart(df.set_index('start_date').groupby(pd.Grouper(freq='M')).sum().reset_index().drop(columns=['_id','total']).melt('start_date',var_name='Cost',value_name='Expense'))\n",
    "    .mark_bar()\n",
    "    .encode(\n",
    "        alt.X(\"start_date\",title='Date'),\n",
    "        alt.Y(\"sum(Expense)\",title=\"Total Expense (CAD)\"),color=alt.Color('Cost')).properties(title='Total Monthly Expenses: Fig 1'))\n",
    "\n",
    "flights = (alt.Chart(df.set_index('start_date').groupby(pd.Grouper(freq='Y')).count().loc[:'2022-01-01'].reset_index(),height=200)\n",
    "    .mark_bar()\n",
    "    .encode(alt.Y(\"start_date:T\",title='Year',scale=alt.Scale(reverse=True)),\n",
    "        alt.X(\"airfare:Q\",title=\"Number of Flights\")).properties(title='Number of Flights per Year: Fig 2'))\n",
    "\n",
    "total_exp & flights"
   ]
  },
  {
   "cell_type": "markdown",
   "id": "9efc6c63-1c42-44d4-b6b4-8bca2e506738",
   "metadata": {},
   "source": [
    "Looking at the two above charts - it's clear that there was a significant increase in travel exepense/number of flights from 2004 right till 2020. As expected, travelling dropped off in 2020 due to the pandemic with the data showing travelling starting to increase throughout 2021 into 2022."
   ]
  },
  {
   "cell_type": "markdown",
   "id": "f9b98f8d-cd25-4fe4-a1ba-a0fa35482497",
   "metadata": {},
   "source": [
    "### Question 2: What type of expense makes up the most of totla expense cost?\n",
    "\n",
    "A horizontal bar graph of 100% expense cost with expense type color for each year will be able to answer this."
   ]
  },
  {
   "cell_type": "code",
   "execution_count": 6,
   "id": "39599135-48fb-404a-8a9c-2c12dee05f10",
   "metadata": {},
   "outputs": [
    {
     "data": {
      "text/html": [
       "\n",
       "<div id=\"altair-viz-ee7221172fba45da89553128377ea5bb\"></div>\n",
       "<script type=\"text/javascript\">\n",
       "  (function(spec, embedOpt){\n",
       "    let outputDiv = document.currentScript.previousElementSibling;\n",
       "    if (outputDiv.id !== \"altair-viz-ee7221172fba45da89553128377ea5bb\") {\n",
       "      outputDiv = document.getElementById(\"altair-viz-ee7221172fba45da89553128377ea5bb\");\n",
       "    }\n",
       "    const paths = {\n",
       "      \"vega\": \"https://cdn.jsdelivr.net/npm//vega@5?noext\",\n",
       "      \"vega-lib\": \"https://cdn.jsdelivr.net/npm//vega-lib?noext\",\n",
       "      \"vega-lite\": \"https://cdn.jsdelivr.net/npm//vega-lite@4.8.1?noext\",\n",
       "      \"vega-embed\": \"https://cdn.jsdelivr.net/npm//vega-embed@6?noext\",\n",
       "    };\n",
       "\n",
       "    function loadScript(lib) {\n",
       "      return new Promise(function(resolve, reject) {\n",
       "        var s = document.createElement('script');\n",
       "        s.src = paths[lib];\n",
       "        s.async = true;\n",
       "        s.onload = () => resolve(paths[lib]);\n",
       "        s.onerror = () => reject(`Error loading script: ${paths[lib]}`);\n",
       "        document.getElementsByTagName(\"head\")[0].appendChild(s);\n",
       "      });\n",
       "    }\n",
       "\n",
       "    function showError(err) {\n",
       "      outputDiv.innerHTML = `<div class=\"error\" style=\"color:red;\">${err}</div>`;\n",
       "      throw err;\n",
       "    }\n",
       "\n",
       "    function displayChart(vegaEmbed) {\n",
       "      vegaEmbed(outputDiv, spec, embedOpt)\n",
       "        .catch(err => showError(`Javascript Error: ${err.message}<br>This usually means there's a typo in your chart specification. See the javascript console for the full traceback.`));\n",
       "    }\n",
       "\n",
       "    if(typeof define === \"function\" && define.amd) {\n",
       "      requirejs.config({paths});\n",
       "      require([\"vega-embed\"], displayChart, err => showError(`Error loading script: ${err.message}`));\n",
       "    } else if (typeof vegaEmbed === \"function\") {\n",
       "      displayChart(vegaEmbed);\n",
       "    } else {\n",
       "      loadScript(\"vega\")\n",
       "        .then(() => loadScript(\"vega-lite\"))\n",
       "        .then(() => loadScript(\"vega-embed\"))\n",
       "        .catch(showError)\n",
       "        .then(() => displayChart(vegaEmbed));\n",
       "    }\n",
       "  })({\"config\": {\"view\": {\"continuousWidth\": 400, \"continuousHeight\": 300}}, \"data\": {\"url\": \"http://localhost:20485/2dd94a10798fe3727bbb95473be1a35e.json\"}, \"mark\": {\"type\": \"bar\", \"size\": 15}, \"encoding\": {\"color\": {\"type\": \"nominal\", \"field\": \"Cost\"}, \"x\": {\"type\": \"quantitative\", \"aggregate\": \"sum\", \"field\": \"Expense\", \"stack\": \"normalize\", \"title\": \"Proportion of expense type\"}, \"y\": {\"type\": \"temporal\", \"field\": \"start_date\", \"scale\": {\"reverse\": true}, \"title\": \"Year\"}}, \"title\": \"Expense Type Breakdown: Fig 3\", \"$schema\": \"https://vega.github.io/schema/vega-lite/v4.8.1.json\"}, {\"mode\": \"vega-lite\"});\n",
       "</script>"
      ],
      "text/plain": [
       "alt.Chart(...)"
      ]
     },
     "execution_count": 6,
     "metadata": {},
     "output_type": "execute_result"
    }
   ],
   "source": [
    "(alt.Chart(df.set_index('start_date').groupby(pd.Grouper(freq='Y')).sum().reset_index().drop(columns=['_id','total']).melt('start_date',var_name='Cost',value_name='Expense'))\n",
    "    .mark_bar(size=15)\n",
    "    .encode(alt.Y(\"start_date:T\",title='Year',scale=alt.Scale(reverse=True)),\n",
    "        alt.X(\"sum(Expense):Q\",title=\"Proportion of expense type\",stack='normalize'),alt.Color('Cost')).properties(title='Expense Type Breakdown: Fig 3'))"
   ]
  },
  {
   "cell_type": "markdown",
   "id": "481ec82f-e534-420a-87d4-8f66e3f6d594",
   "metadata": {},
   "source": [
    "From the above chart - its very clear - airfare makes up the largest portion of total expenses. Followed by lodging and meals"
   ]
  },
  {
   "cell_type": "markdown",
   "id": "25b897ad-1190-43bb-a5c2-24edb599c27d",
   "metadata": {},
   "source": [
    "### Question 3: Does longer trips lead to higher total expenses?\n",
    "\n",
    "We would expect this to be true. I will create a heat map of trip length vs total cost. To get a bit more detail, I will add in a faceted density plot showing trip legnth/total cost by employee type as defined in the column Disclosure Group."
   ]
  },
  {
   "cell_type": "code",
   "execution_count": 7,
   "id": "0ef75175-79e1-49ef-8d94-90aa151ad0bf",
   "metadata": {},
   "outputs": [
    {
     "data": {
      "text/plain": [
       "array(['SLE', nan, 'MPSES', 'sle', 'mpses', 'FOVC'], dtype=object)"
      ]
     },
     "execution_count": 7,
     "metadata": {},
     "output_type": "execute_result"
    }
   ],
   "source": [
    "#first we need to clean the column up\n",
    "\n",
    "df.disclosure_group.unique()"
   ]
  },
  {
   "cell_type": "code",
   "execution_count": 8,
   "id": "84d296b3-b232-448d-92c2-944d6f58af65",
   "metadata": {},
   "outputs": [
    {
     "data": {
      "text/plain": [
       "array(['SLE', 'Undisclosed', 'MPSES', 'FOVC'], dtype=object)"
      ]
     },
     "execution_count": 8,
     "metadata": {},
     "output_type": "execute_result"
    }
   ],
   "source": [
    "df['disclosure_group'] =  df.disclosure_group.fillna(\"Undisclosed\")\n",
    "df['disclosure_group'] =  df.disclosure_group.replace('sle','SLE')\n",
    "df['disclosure_group'] =  df.disclosure_group.replace('mpses',\"MPSES\")\n",
    "df.disclosure_group.unique()"
   ]
  },
  {
   "cell_type": "code",
   "execution_count": 9,
   "id": "d5e1a5cb-422f-4779-95f9-fc9b1d8514df",
   "metadata": {},
   "outputs": [],
   "source": [
    "#running into data quality issues where there are issues with how dates were inputed. Typos/input errors\n",
    "df['trip_length'] = ((df['end_date'] - df['start_date']).dt.days).clip(0)\n",
    "df = df[df.trip_length <= 30]\n",
    "df = df[(df.total <= 100000) & (df.total >= 0)]"
   ]
  },
  {
   "cell_type": "code",
   "execution_count": 10,
   "id": "13cc7cf0-5791-4653-980e-dc4609e0166e",
   "metadata": {},
   "outputs": [
    {
     "data": {
      "text/html": [
       "\n",
       "<div id=\"altair-viz-0beba83692b04bfdbc93123910526a42\"></div>\n",
       "<script type=\"text/javascript\">\n",
       "  (function(spec, embedOpt){\n",
       "    let outputDiv = document.currentScript.previousElementSibling;\n",
       "    if (outputDiv.id !== \"altair-viz-0beba83692b04bfdbc93123910526a42\") {\n",
       "      outputDiv = document.getElementById(\"altair-viz-0beba83692b04bfdbc93123910526a42\");\n",
       "    }\n",
       "    const paths = {\n",
       "      \"vega\": \"https://cdn.jsdelivr.net/npm//vega@5?noext\",\n",
       "      \"vega-lib\": \"https://cdn.jsdelivr.net/npm//vega-lib?noext\",\n",
       "      \"vega-lite\": \"https://cdn.jsdelivr.net/npm//vega-lite@4.8.1?noext\",\n",
       "      \"vega-embed\": \"https://cdn.jsdelivr.net/npm//vega-embed@6?noext\",\n",
       "    };\n",
       "\n",
       "    function loadScript(lib) {\n",
       "      return new Promise(function(resolve, reject) {\n",
       "        var s = document.createElement('script');\n",
       "        s.src = paths[lib];\n",
       "        s.async = true;\n",
       "        s.onload = () => resolve(paths[lib]);\n",
       "        s.onerror = () => reject(`Error loading script: ${paths[lib]}`);\n",
       "        document.getElementsByTagName(\"head\")[0].appendChild(s);\n",
       "      });\n",
       "    }\n",
       "\n",
       "    function showError(err) {\n",
       "      outputDiv.innerHTML = `<div class=\"error\" style=\"color:red;\">${err}</div>`;\n",
       "      throw err;\n",
       "    }\n",
       "\n",
       "    function displayChart(vegaEmbed) {\n",
       "      vegaEmbed(outputDiv, spec, embedOpt)\n",
       "        .catch(err => showError(`Javascript Error: ${err.message}<br>This usually means there's a typo in your chart specification. See the javascript console for the full traceback.`));\n",
       "    }\n",
       "\n",
       "    if(typeof define === \"function\" && define.amd) {\n",
       "      requirejs.config({paths});\n",
       "      require([\"vega-embed\"], displayChart, err => showError(`Error loading script: ${err.message}`));\n",
       "    } else if (typeof vegaEmbed === \"function\") {\n",
       "      displayChart(vegaEmbed);\n",
       "    } else {\n",
       "      loadScript(\"vega\")\n",
       "        .then(() => loadScript(\"vega-lite\"))\n",
       "        .then(() => loadScript(\"vega-embed\"))\n",
       "        .catch(showError)\n",
       "        .then(() => displayChart(vegaEmbed));\n",
       "    }\n",
       "  })({\"config\": {\"view\": {\"continuousWidth\": 400, \"continuousHeight\": 300}}, \"data\": {\"url\": \"http://localhost:20485/791b4b67dcfa787763fba339ce073500.json\"}, \"mark\": \"rect\", \"encoding\": {\"color\": {\"type\": \"quantitative\", \"aggregate\": \"count\"}, \"x\": {\"type\": \"quantitative\", \"bin\": {\"maxbins\": 20}, \"field\": \"trip_length\"}, \"y\": {\"type\": \"quantitative\", \"bin\": {\"maxbins\": 30}, \"field\": \"total\"}}, \"title\": \"Trip Length vs Expense Total Heat Map: Fig 4\", \"$schema\": \"https://vega.github.io/schema/vega-lite/v4.8.1.json\"}, {\"mode\": \"vega-lite\"});\n",
       "</script>"
      ],
      "text/plain": [
       "alt.Chart(...)"
      ]
     },
     "execution_count": 10,
     "metadata": {},
     "output_type": "execute_result"
    }
   ],
   "source": [
    "alt.data_transformers.disable_max_rows()\n",
    "heat = alt.Chart(df).mark_rect().encode(\n",
    "    alt.X('trip_length:Q', bin=alt.Bin(maxbins=20)),\n",
    "    alt.Y('total:Q', bin=alt.Bin(maxbins=30)),\n",
    "    alt.Color('count()')).properties(title='Trip Length vs Expense Total Heat Map: Fig 4')\n",
    "\n",
    "heat"
   ]
  },
  {
   "cell_type": "code",
   "execution_count": 11,
   "id": "c8ffdf00-ee6d-4b60-a38e-915c803815dd",
   "metadata": {},
   "outputs": [
    {
     "data": {
      "text/html": [
       "\n",
       "<div id=\"altair-viz-4f830124648640e396e59281ff2874fb\"></div>\n",
       "<script type=\"text/javascript\">\n",
       "  (function(spec, embedOpt){\n",
       "    let outputDiv = document.currentScript.previousElementSibling;\n",
       "    if (outputDiv.id !== \"altair-viz-4f830124648640e396e59281ff2874fb\") {\n",
       "      outputDiv = document.getElementById(\"altair-viz-4f830124648640e396e59281ff2874fb\");\n",
       "    }\n",
       "    const paths = {\n",
       "      \"vega\": \"https://cdn.jsdelivr.net/npm//vega@5?noext\",\n",
       "      \"vega-lib\": \"https://cdn.jsdelivr.net/npm//vega-lib?noext\",\n",
       "      \"vega-lite\": \"https://cdn.jsdelivr.net/npm//vega-lite@4.8.1?noext\",\n",
       "      \"vega-embed\": \"https://cdn.jsdelivr.net/npm//vega-embed@6?noext\",\n",
       "    };\n",
       "\n",
       "    function loadScript(lib) {\n",
       "      return new Promise(function(resolve, reject) {\n",
       "        var s = document.createElement('script');\n",
       "        s.src = paths[lib];\n",
       "        s.async = true;\n",
       "        s.onload = () => resolve(paths[lib]);\n",
       "        s.onerror = () => reject(`Error loading script: ${paths[lib]}`);\n",
       "        document.getElementsByTagName(\"head\")[0].appendChild(s);\n",
       "      });\n",
       "    }\n",
       "\n",
       "    function showError(err) {\n",
       "      outputDiv.innerHTML = `<div class=\"error\" style=\"color:red;\">${err}</div>`;\n",
       "      throw err;\n",
       "    }\n",
       "\n",
       "    function displayChart(vegaEmbed) {\n",
       "      vegaEmbed(outputDiv, spec, embedOpt)\n",
       "        .catch(err => showError(`Javascript Error: ${err.message}<br>This usually means there's a typo in your chart specification. See the javascript console for the full traceback.`));\n",
       "    }\n",
       "\n",
       "    if(typeof define === \"function\" && define.amd) {\n",
       "      requirejs.config({paths});\n",
       "      require([\"vega-embed\"], displayChart, err => showError(`Error loading script: ${err.message}`));\n",
       "    } else if (typeof vegaEmbed === \"function\") {\n",
       "      displayChart(vegaEmbed);\n",
       "    } else {\n",
       "      loadScript(\"vega\")\n",
       "        .then(() => loadScript(\"vega-lite\"))\n",
       "        .then(() => loadScript(\"vega-embed\"))\n",
       "        .catch(showError)\n",
       "        .then(() => displayChart(vegaEmbed));\n",
       "    }\n",
       "  })({\"config\": {\"view\": {\"continuousWidth\": 400, \"continuousHeight\": 300}}, \"data\": {\"url\": \"http://localhost:20485/791b4b67dcfa787763fba339ce073500.json\"}, \"facet\": {\"type\": \"nominal\", \"field\": \"disclosure_group\"}, \"spec\": {\"mark\": {\"type\": \"area\", \"opacity\": 0.5}, \"encoding\": {\"color\": {\"type\": \"nominal\", \"field\": \"disclosure_group\", \"legend\": null}, \"x\": {\"type\": \"quantitative\", \"field\": \"trip_length\"}, \"y\": {\"type\": \"quantitative\", \"field\": \"density\"}}, \"height\": 200, \"transform\": [{\"density\": \"trip_length\", \"groupby\": [\"disclosure_group\"], \"steps\": 200, \"as\": [\"trip_length\", \"density\"]}], \"width\": 200}, \"columns\": 2, \"title\": \"Trip Length Density Plot: Fig 5\", \"$schema\": \"https://vega.github.io/schema/vega-lite/v4.8.1.json\"}, {\"mode\": \"vega-lite\"});\n",
       "</script>"
      ],
      "text/plain": [
       "alt.FacetChart(...)"
      ]
     },
     "execution_count": 11,
     "metadata": {},
     "output_type": "execute_result"
    }
   ],
   "source": [
    "alt.data_transformers.disable_max_rows()\n",
    "hist = (alt.Chart(df,width=200,height=200).transform_density('trip_length',groupby=['disclosure_group'],as_=['trip_length','density'],steps=200).mark_area(opacity=0.5).encode(\n",
    "    alt.X('trip_length:Q'),\n",
    "    alt.Y('density:Q'),color=alt.Color('disclosure_group',legend=None)).facet('disclosure_group',columns=2)).properties(title='Trip Length Density Plot: Fig 5')\n",
    "hist"
   ]
  },
  {
   "cell_type": "markdown",
   "id": "226b61fb-c038-4cdb-abc6-7dc8bb736999",
   "metadata": {},
   "source": [
    "Looking at both the above charts, its not clear that longer trips always lead to higher total expenses. The majority of the trips are short less than 3 days and less than 2000 dollars. Theres also no meanignful difference in the trip lenth for different types of government employees."
   ]
  },
  {
   "cell_type": "markdown",
   "id": "719be1a6-5044-40ca-ad75-7154b7e3317d",
   "metadata": {},
   "source": [
    "### Concluding Remarks\n",
    "\n",
    "For the final project, I will refine and stylize the above charts. I think I will also find a better way to visualize the above density plots - a facetted histogram will do the trick. Adding interactivty and filters will increase the usefullness of the above."
   ]
  },
  {
   "cell_type": "markdown",
   "id": "e0d8fb4c-4545-42d2-8806-bb6774b27158",
   "metadata": {},
   "source": [
    "## References\n",
    "* https://stackoverflow.com/questions/49817153/invert-axis-direction-altair\n",
    "* https://stackoverflow.com/questions/60839767/altair-faceted-histogram-independent-scales\n",
    "* https://stackoverflow.com/questions/26837998/pandas-replace-nan-with-blank-empty-string\n",
    "* Module 1-5 Data Visualization"
   ]
  }
 ],
 "metadata": {
  "kernelspec": {
   "display_name": "Python 3 (ipykernel)",
   "language": "python",
   "name": "python3"
  },
  "language_info": {
   "codemirror_mode": {
    "name": "ipython",
    "version": 3
   },
   "file_extension": ".py",
   "mimetype": "text/x-python",
   "name": "python",
   "nbconvert_exporter": "python",
   "pygments_lexer": "ipython3",
   "version": "3.8.12"
  }
 },
 "nbformat": 4,
 "nbformat_minor": 5
}
